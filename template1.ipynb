{
  "cells": [
    {
      "cell_type": "markdown",
      "id": "0864f6f8-d36b-4bb2-9a39-ce2e9780c5f4",
      "metadata": {},
      "source": [
        "# Coding Project 1 : Linear Regression and Regularization"
      ]
    },
    {
      "cell_type": "markdown",
      "id": "4f5b0c7d-92b3-4cde-a31b-93ff1e7ff46f",
      "metadata": {},
      "source": [
        "**Please write the names of all group members here:**\n",
        "\n",
        "\n",
        "\n",
        "\n",
        "---\n",
        "\n",
        "\n",
        "*Note:* The provided structure for the code below is only suggestive, and if you want to structure your programs differently you may do so."
      ]
    },
    {
      "cell_type": "markdown",
      "id": "ee87ace5-781a-402a-8f0b-3266c446cd30",
      "metadata": {},
      "source": [
        "### Question 1 - Importing the Data"
      ]
    },
    {
      "cell_type": "code",
      "execution_count": 26,
      "id": "cf5dd6ed-bdad-4351-a2ff-01aded150b90",
      "metadata": {},
      "outputs": [],
      "source": [
        "#For Question 1, you can import the following packages:\n",
        "import matplotlib.pyplot as plt\n",
        "import pandas as pd\n",
        "import numpy as np\n",
        "import scipy.stats as stats\n",
        "from sklearn.model_selection  import train_test_split"
      ]
    },
    {
      "cell_type": "code",
      "execution_count": 53,
      "id": "9e837df2",
      "metadata": {},
      "outputs": [
        {
          "name": "stdout",
          "output_type": "stream",
          "text": [
            "   Id  MSSubClass MSZoning  LotFrontage  LotArea Street Alley LotShape  \\\n",
            "0   1          60       RL         65.0     8450   Pave   NaN      Reg   \n",
            "1   2          20       RL         80.0     9600   Pave   NaN      Reg   \n",
            "2   3          60       RL         68.0    11250   Pave   NaN      IR1   \n",
            "3   4          70       RL         60.0     9550   Pave   NaN      IR1   \n",
            "4   5          60       RL         84.0    14260   Pave   NaN      IR1   \n",
            "\n",
            "  LandContour Utilities  ... PoolArea PoolQC Fence MiscFeature MiscVal MoSold  \\\n",
            "0         Lvl    AllPub  ...        0    NaN   NaN         NaN       0      2   \n",
            "1         Lvl    AllPub  ...        0    NaN   NaN         NaN       0      5   \n",
            "2         Lvl    AllPub  ...        0    NaN   NaN         NaN       0      9   \n",
            "3         Lvl    AllPub  ...        0    NaN   NaN         NaN       0      2   \n",
            "4         Lvl    AllPub  ...        0    NaN   NaN         NaN       0     12   \n",
            "\n",
            "  YrSold  SaleType  SaleCondition  SalePrice  \n",
            "0   2008        WD         Normal     208500  \n",
            "1   2007        WD         Normal     181500  \n",
            "2   2008        WD         Normal     223500  \n",
            "3   2006        WD        Abnorml     140000  \n",
            "4   2008        WD         Normal     250000  \n",
            "\n",
            "[5 rows x 81 columns]\n",
            "X dims:  (1460, 79)\n",
            "   MSSubClass MSZoning  LotFrontage  LotArea Street Alley LotShape  \\\n",
            "0          60       RL         65.0     8450   Pave   NaN      Reg   \n",
            "1          20       RL         80.0     9600   Pave   NaN      Reg   \n",
            "2          60       RL         68.0    11250   Pave   NaN      IR1   \n",
            "3          70       RL         60.0     9550   Pave   NaN      IR1   \n",
            "4          60       RL         84.0    14260   Pave   NaN      IR1   \n",
            "\n",
            "  LandContour Utilities LotConfig  ... ScreenPorch PoolArea PoolQC Fence  \\\n",
            "0         Lvl    AllPub    Inside  ...           0        0    NaN   NaN   \n",
            "1         Lvl    AllPub       FR2  ...           0        0    NaN   NaN   \n",
            "2         Lvl    AllPub    Inside  ...           0        0    NaN   NaN   \n",
            "3         Lvl    AllPub    Corner  ...           0        0    NaN   NaN   \n",
            "4         Lvl    AllPub       FR2  ...           0        0    NaN   NaN   \n",
            "\n",
            "  MiscFeature MiscVal  MoSold  YrSold  SaleType  SaleCondition  \n",
            "0         NaN       0       2    2008        WD         Normal  \n",
            "1         NaN       0       5    2007        WD         Normal  \n",
            "2         NaN       0       9    2008        WD         Normal  \n",
            "3         NaN       0       2    2006        WD        Abnorml  \n",
            "4         NaN       0      12    2008        WD         Normal  \n",
            "\n",
            "[5 rows x 79 columns]\n",
            "y length:  1460\n",
            "0    208500\n",
            "1    181500\n",
            "2    223500\n",
            "3    140000\n",
            "4    250000\n",
            "Name: SalePrice, dtype: int64\n"
          ]
        }
      ],
      "source": [
        "#1.a) Import the dataset Housing.csv into Python as a pandas DataFrame.\n",
        "#To determine whether a variable is categorical or numerical, please refer to the file data_description.txt.\n",
        "#Remember that the first column of the csv file is an index column and should not be considered as an explanatory variable.\n",
        "df = pd.read_csv(\"Housing.csv\")\n",
        "print(df.head())\n",
        "\n",
        "y = df[\"SalePrice\"]\n",
        "X = df.drop(columns=[\"Id\", \"SalePrice\"])\n",
        "#we stop dealing with df here now just work with X and y\n",
        "print(\"X dims: \", X.shape)\n",
        "print(X.head())\n",
        "print(\"y length: \", y.size)\n",
        "print(y.head())\n"
      ]
    },
    {
      "cell_type": "code",
      "execution_count": 54,
      "id": "63bc3c67",
      "metadata": {},
      "outputs": [
        {
          "data": {
            "image/png": "[encoded data removed]",
            "text/plain": [
              "<Figure size 640x480 with 1 Axes>"
            ]
          },
          "metadata": {},
          "output_type": "display_data"
        }
      ],
      "source": [
        "#1.b) Graphically determine whether the target variable SalePrice is approximately Gaussian.\n",
        "n_bins = 100\n",
        "plt.hist(y, bins=n_bins, color='black')\n",
        "plt.xlabel('SalePrice')\n",
        "plt.ylabel('Frequency')\n",
        "plt.title('Target y Histogram')\n",
        "plt.show()"
      ]
    },
    {
      "cell_type": "code",
      "execution_count": 55,
      "id": "0c46442a",
      "metadata": {},
      "outputs": [
        {
          "data": {
            "image/png": "[encoded data removed]",
            "text/plain": [
              "<Figure size 640x480 with 1 Axes>"
            ]
          },
          "metadata": {},
          "output_type": "display_data"
        },
        {
          "data": {
            "image/png": "[encoded data removed]",
            "text/plain": [
              "<Figure size 640x480 with 1 Axes>"
            ]
          },
          "metadata": {},
          "output_type": "display_data"
        }
      ],
      "source": [
        "#If not, suggest a suitable transformation to bring SalePrice closer to a Gaussian distribution (logarithmic, inverse, square-root, ...).\n",
        "#log transformation makes it more or less normal distributed\n",
        "plt.hist(np.log(y), bins=n_bins, color='black', edgecolor='black')\n",
        "plt.xlabel('Log of SalePrice')\n",
        "plt.ylabel('Frequency')\n",
        "plt.title('log(y) Histogram')\n",
        "plt.show()\n",
        "\n",
        "plt.hist(np.sqrt(y), bins=n_bins, color='black', edgecolor='black')\n",
        "plt.xlabel('Square Root of SalePrice')\n",
        "plt.ylabel('Frequency')\n",
        "plt.title('sqrt(y) Histogram')\n",
        "plt.show()\n"
      ]
    },
    {
      "cell_type": "code",
      "execution_count": 56,
      "id": "e4b645fc",
      "metadata": {},
      "outputs": [
        {
          "name": "stdout",
          "output_type": "stream",
          "text": [
            "0    208500\n",
            "1    181500\n",
            "2    223500\n",
            "3    140000\n",
            "4    250000\n",
            "Name: SalePrice, dtype: int64\n",
            "0    12.247694\n",
            "1    12.109011\n",
            "2    12.317167\n",
            "3    11.849398\n",
            "4    12.429216\n",
            "Name: SalePrice, dtype: float64\n"
          ]
        }
      ],
      "source": [
        "#Do not forget to apply this transformation to the target variable SalePrice in the dataset.\n",
        "print(y.head())\n",
        "y = np.log(y)\n",
        "print(y.head())"
      ]
    },
    {
      "cell_type": "markdown",
      "id": "37eda39b",
      "metadata": {},
      "source": [
        "Why is it important to consider such potential transformations?\n",
        "\n",
        "- Sometimes the target variable may be skewed\n",
        "- Many models assume the errors (residuals) are normally distributed with constant variance\n",
        "- Maybe reduce the influence of outliers\n",
        "\n",
        "Linear Regression assumes that the noise/error follows a normal distribution with mean 0."
      ]
    },
    {
      "cell_type": "code",
      "execution_count": 57,
      "id": "02c5ca0f",
      "metadata": {},
      "outputs": [
        {
          "name": "stdout",
          "output_type": "stream",
          "text": [
            "X dims: (1460, 79)\n",
            "X_train dims: (1022, 79)\n",
            "X_test dims: (438, 79)\n",
            "y len: 1460\n",
            "y_train len: 1022\n",
            "y_test len: 438\n"
          ]
        }
      ],
      "source": [
        "#1.c) Split the data into a training set (X,y)_train and a test set (X,y)_test.\n",
        "#Randomly assign 70% of the observations to the training set and the remaining 30% to the test set.\n",
        "X_train, X_test, y_train, y_test = train_test_split(X, y, test_size=0.3, random_state=42)\n",
        "print(\"X dims:\", X.shape)\n",
        "print(\"X_train dims:\", X_train.shape)\n",
        "print(\"X_test dims:\", X_test.shape)\n",
        "print(\"y len:\", y.size)\n",
        "print(\"y_train len:\", y_train.size)\n",
        "print(\"y_test len:\", y_test.size)"
      ]
    },
    {
      "cell_type": "code",
      "execution_count": 67,
      "id": "4d526b51",
      "metadata": {},
      "outputs": [
        {
          "name": "stdout",
          "output_type": "stream",
          "text": [
            "Total number of features: 79\n",
            "Number of categorical features:  44\n",
            "Number of numerical features:  35\n"
          ]
        }
      ],
      "source": [
        "#1.d) Replace missing values in X using the training data statistics only -> use .fillna(...)\n",
        "#For numerical features, replace missing values with the mean of the column .\n",
        "#For categorical features, replace missing values with the most frequent category.\n",
        "#You can use the function df.select_dtypes(...) to idetify categorical variables as the variables with type 'object' and 'category'. \n",
        "#Some categorical variables admit NA (or None) as a valid category, which should be treated as an actual level and not as missing.\n",
        "\n",
        "#from dataypes.csv we see we have only 'object' or 'int64' or 'float64'\n",
        "X_train.dtypes.to_csv('dataypes.csv')\n",
        "print(\"Total number of features:\", len(X_train.columns))\n",
        "#expecting 79\n",
        "\n",
        "#Categorical features\n",
        "X_train_categorical = X_train.select_dtypes('object', 'category')\n",
        "X_train_categorical.insert(0, 'MSSubClass', X_train[\"MSSubClass\"], allow_duplicates=False)\n",
        "print(\"Number of categorical features: \",len(X_train_categorical.columns))\n",
        "#expecting 44\n",
        "#objects.csv has all the categorical features i.e. those that are type 'object'\n",
        "X_train_categorical.dtypes.to_csv('objects.csv')\n",
        "\n",
        "X_train_numerical = X_train.drop(columns=X_train_categorical)\n",
        "print(\"Number of numerical features: \", len(X_train_numerical.columns))\n",
        "#expecting 35\n",
        "#numericals.csv has all the numerical features i.e. those that are not type 'object'\n",
        "X_train_numerical.dtypes.to_csv('numericals.csv')\n",
        "\n",
        "\n",
        "num = X_train_numerical.columns\n",
        "cat = X_train_categorical.columns\n",
        "\n",
        "X_train_numerical.to_csv(\"x_train_numerical_before_impute\")\n",
        "X_train[num] = X_train[num].fillna(np.mean(X_train[num]))\n",
        "X_train[num].to_csv(\"x_train_numerical_after_impute\")\n",
        "\n",
        "X_test[num].to_csv(\"x_test_numerical_before_impute\")\n",
        "X_test[num] = X_test[num].fillna(np.mean(X_train[num]))\n",
        "X_test[num].to_csv(\"x_test_numerical_after_impute\")\n"
      ]
    },
    {
      "cell_type": "code",
      "execution_count": null,
      "id": "e83e1d93",
      "metadata": {},
      "outputs": [],
      "source": [
        "\n",
        "\n",
        "\n",
        "\n",
        "\n",
        "\n",
        "\n",
        "\n",
        "\n",
        "\n",
        "\n",
        "\n",
        "\n",
        "\n",
        "\n",
        "\n",
        "\n",
        "\n",
        "\n",
        "\n",
        "\n",
        "\n",
        "\n",
        "\n",
        "#1.d) Replace missing values in X using the training data statistics only -> use .fillna(...)\n",
        "#For numerical features, replace missing values with the mean of the column .\n",
        "#For categorical features, replace missing values with the most frequent category.\n",
        "#You can use the function df.select_dtypes(...) to idetify categorical variables as the variables with type 'object' and 'category'. \n",
        "#Some categorical variables admit NA (or None) as a valid category, which should be treated as an actual level and not as missing.\n",
        "def fill_with_mode(col):\n",
        "    modeval = X_train[col].mode()[0]\n",
        "    X_train[col] = X_train[col].fillna(modeval)\n",
        "    X_test[col] = X_test[col].fillna(modeval)\n",
        "\n",
        "def fill_with_mean(col):\n",
        "    meanval = X_train[col].mean()\n",
        "    X_train[col] = X_train[col].fillna(meanval)\n",
        "    X_test[col] = X_test[col].fillna(meanval)\n",
        "\n",
        "def normalize(col):\n",
        "    training_mean = X_train[col].mean()\n",
        "    training_std = X_train[col].std()\n",
        "    X_train[col] = (X_train[col] - training_mean) / training_std\n",
        "    X_test[col] = (X_test[col] - training_mean) / training_std\n",
        "\n",
        "\n",
        "def one_hot(col):\n",
        "    train_dummies = pd.get_dummies(X_train[col], prefix=col)\n",
        "    test_dummies  = pd.get_dummies(X_test[col], prefix=col)\n",
        "\n",
        "    test_dummies = test_dummies.reindex(columns=train_dummies.columns, fill_value=0)\n",
        "\n",
        "    X_train.drop(columns=[col], inplace=True)\n",
        "    X_test.drop(columns=[col], inplace=True)\n",
        "    X_train[train_dummies.columns] = train_dummies\n",
        "    X_test[test_dummies.columns]   = test_dummies\n",
        "\n",
        "categorical = list(df.select_dtypes(include=['object', 'category']).columns)\n",
        "\n",
        "# print(categorical)\n",
        "# fill_with_mode(df.select_dtypes('object'))\n",
        "\n",
        "for col in list(X_train.columns):\n",
        "    if col in categorical:\n",
        "        fill_with_mode(col)\n",
        "        one_hot(col)\n",
        "        continue\n",
        "    fill_with_mean(col)\n",
        "    normalize(col)\n"
      ]
    },
    {
      "cell_type": "markdown",
      "id": "86354e30-0b82-481b-a39f-c611e08a4408",
      "metadata": {},
      "source": [
        "### Question 2 - Linear Regression on Numerical Features"
      ]
    },
    {
      "cell_type": "code",
      "execution_count": 2,
      "id": "a1114545-6d94-4276-9e6a-cc84a49309bc",
      "metadata": {},
      "outputs": [],
      "source": [
        "from sklearn.linear_model import LinearRegression\n",
        "from sklearn.metrics import mean_squared_error, r2_score\n",
        "from sklearn.preprocessing import PolynomialFeatures\n",
        "import statsmodels.api as sm\n",
        "\n",
        "#2.a) Fit a linear regression model on the training dataset with numerical features only using the sklearn package.\n",
        "#Output a table with the name of each feature and the associated regression coefficient.\n",
        "\n",
        "#Compare the in-sample and out-of-sample Mean Squared Error (MSE) and R^2.\n",
        "\n",
        "\n",
        "#2.b) (i) Compute the estimated coefficients for each explanatory variable using the numpy package. \n",
        "#Remember that the design matrix A needs to include a column of 1's. Use np.linalg.solve(...).\n",
        "\n",
        "# (ii) Compute the standard error of each estimated coefficient using the numpy package.\n",
        "\n",
        "# (iii) Compute the (in-sample) MSE and R^2 using the numpy package.\n",
        "\n",
        "# (iv) Do the results change using pseudoinversion instead of standard matrix inversion? Use np.linalg.pinv(...).\n",
        "\n",
        "# (v) Compare your results (with and without pseudoinversion) to the output of the sm.OLS(...) function.\n",
        "\n"
      ]
    },
    {
      "cell_type": "markdown",
      "id": "d31c5ecc-7f64-4788-9237-76dff4e3fb3e",
      "metadata": {},
      "source": [
        "### Question 3 - Regularization Techniques"
      ]
    },
    {
      "cell_type": "code",
      "execution_count": 3,
      "id": "e12435fe-6e93-477f-ac34-3440e08463f6",
      "metadata": {},
      "outputs": [],
      "source": [
        "from sklearn.linear_model import RidgeCV, LassoCV, ElasticNetCV, Ridge, Lasso, ElasticNet\n",
        "from sklearn.model_selection import cross_val_score, RepeatedKFold, KFold\n",
        "\n",
        "# 3.a) Linear regression with the full Housing dataset (numerical + categorical).\n",
        "#How do the in-sample and out-of-sample metrics change when including categorical features, and what does this reveal about the model’s ability to generalize?\n",
        "\n",
        "\n",
        "#3.b) Implement the Truncated Pseudoinverse, Ridge, Lasso, and Elastic Net regularization techniques.\n",
        "#Use 8-fold cross-validation to tune the hyperparameters of each regularization technique based on the MSE metric.\n",
        "#Why is it important that the intercept is not penalized in these models?\n",
        "\n",
        "#Compare their performance in terms of in-sample and out-of-sample MSE and R2 with the linear regressions of Questions 2.a) and 3.a).\n",
        "\n",
        "\n",
        "#3.c) During cross-validation, what are possible sources of information leakage? \n",
        "#Briefly describe what leakage means in this context, and explain what steps you would take to avoid it if you were building a more complete data preprocessing pipeline (e.g., with imputation, scaling, or encoding). \n",
        "#You do not need to implement these steps here, only to explain the idea.\n",
        "\n",
        "\n",
        "#3.d) For the  Lasso and Elastic Net regressions, how many coefficients are non-zero?\n",
        "\n",
        "#Compare this number with the number of coefficients retained by the Ridge and Truncated Pseudoinverse models and provide an explanation.\n",
        "\n",
        "\n",
        "#3.e) #Based on your findings from Questions 2 and 3, which model would you recommend for predicting house prices? \n",
        "#Justify your choice not only by comparing performance metrics, but also by discussing the nature of the problem (e.g., number of features, presence of categorical variables, potential collinearity, sparsity, nonlinearity). \n",
        "#Explain how the strengths and limitations of the chosen method align with this problem structure.\n",
        "\n"
      ]
    }
  ],
  "metadata": {
    "kernelspec": {
      "display_name": "test_env",
      "language": "python",
      "name": "python3"
    },
    "language_info": {
      "codemirror_mode": {
        "name": "ipython",
        "version": 3
      },
      "file_extension": ".py",
      "mimetype": "text/x-python",
      "name": "python",
      "nbconvert_exporter": "python",
      "pygments_lexer": "ipython3",
      "version": "3.12.11"
    }
  },
  "nbformat": 4,
  "nbformat_minor": 5
}
